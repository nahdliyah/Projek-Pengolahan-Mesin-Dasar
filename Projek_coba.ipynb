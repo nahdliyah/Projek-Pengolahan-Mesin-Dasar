{
  "cells": [
    {
      "cell_type": "code",
      "execution_count": 34,
      "metadata": {
        "id": "3teJqdZ8-T_a"
      },
      "outputs": [],
      "source": [
        "# from google.colab import drive\n",
        "# drive.mount('/content/drive')"
      ]
    },
    {
      "cell_type": "markdown",
      "metadata": {
        "id": "TnALiHvt7_NQ"
      },
      "source": [
        "https://www.kaggle.com/code/baturalpsert/deep-learning-lung-cancer/input\n"
      ]
    },
    {
      "cell_type": "code",
      "execution_count": 35,
      "metadata": {
        "id": "R3QU35J0-pS2"
      },
      "outputs": [],
      "source": [
        "# import pandas as pd\n",
        "# nama_file = '/content/drive/MyDrive/Colab Notebooks/cancer patient data sets.csv'\n",
        "# data = pd.read_csv(nama_file,sep=','or';')\n",
        "# data.head()"
      ]
    },
    {
      "cell_type": "code",
      "execution_count": 36,
      "metadata": {
        "colab": {
          "base_uri": "https://localhost:8080/",
          "height": 307
        },
        "id": "mNzdBGSJG0N8",
        "outputId": "1009e1e8-3352-4115-df3d-00d375ced7c9"
      },
      "outputs": [
        {
          "data": {
            "text/html": [
              "<div>\n",
              "<style scoped>\n",
              "    .dataframe tbody tr th:only-of-type {\n",
              "        vertical-align: middle;\n",
              "    }\n",
              "\n",
              "    .dataframe tbody tr th {\n",
              "        vertical-align: top;\n",
              "    }\n",
              "\n",
              "    .dataframe thead th {\n",
              "        text-align: right;\n",
              "    }\n",
              "</style>\n",
              "<table border=\"1\" class=\"dataframe\">\n",
              "  <thead>\n",
              "    <tr style=\"text-align: right;\">\n",
              "      <th></th>\n",
              "      <th>index,Patient Id,Age,Gender,Air Pollution,Alcohol use,Dust Allergy,OccuPational Hazards,Genetic Risk,chronic Lung Disease,Balanced Diet,Obesity,Smoking,Passive Smoker,Chest Pain,Coughing of Blood,Fatigue,Weight Loss,Shortness of Breath,Wheezing,Swallowing Difficulty,Clubbing of Finger Nails,Frequent Cold,Dry Cough,Snoring,Level</th>\n",
              "    </tr>\n",
              "  </thead>\n",
              "  <tbody>\n",
              "    <tr>\n",
              "      <th>0</th>\n",
              "      <td>0,P1,33,1,2,4,5,4,3,2,2,4,3,2,2,4,3,4,2,2,3,1,...</td>\n",
              "    </tr>\n",
              "    <tr>\n",
              "      <th>1</th>\n",
              "      <td>1,P10,17,1,3,1,5,3,4,2,2,2,2,4,2,3,1,3,7,8,6,2...</td>\n",
              "    </tr>\n",
              "    <tr>\n",
              "      <th>2</th>\n",
              "      <td>2,P100,35,1,4,5,6,5,5,4,6,7,2,3,4,8,8,7,9,2,1,...</td>\n",
              "    </tr>\n",
              "    <tr>\n",
              "      <th>3</th>\n",
              "      <td>3,P1000,37,1,7,7,7,7,6,7,7,7,7,7,7,8,4,2,3,1,4...</td>\n",
              "    </tr>\n",
              "    <tr>\n",
              "      <th>4</th>\n",
              "      <td>4,P101,46,1,6,8,7,7,7,6,7,7,8,7,7,9,3,2,4,1,4,...</td>\n",
              "    </tr>\n",
              "  </tbody>\n",
              "</table>\n",
              "</div>"
            ],
            "text/plain": [
              "  index,Patient Id,Age,Gender,Air Pollution,Alcohol use,Dust Allergy,OccuPational Hazards,Genetic Risk,chronic Lung Disease,Balanced Diet,Obesity,Smoking,Passive Smoker,Chest Pain,Coughing of Blood,Fatigue,Weight Loss,Shortness of Breath,Wheezing,Swallowing Difficulty,Clubbing of Finger Nails,Frequent Cold,Dry Cough,Snoring,Level\n",
              "0  0,P1,33,1,2,4,5,4,3,2,2,4,3,2,2,4,3,4,2,2,3,1,...                                                                                                                                                                                                                                                                                       \n",
              "1  1,P10,17,1,3,1,5,3,4,2,2,2,2,4,2,3,1,3,7,8,6,2...                                                                                                                                                                                                                                                                                       \n",
              "2  2,P100,35,1,4,5,6,5,5,4,6,7,2,3,4,8,8,7,9,2,1,...                                                                                                                                                                                                                                                                                       \n",
              "3  3,P1000,37,1,7,7,7,7,6,7,7,7,7,7,7,8,4,2,3,1,4...                                                                                                                                                                                                                                                                                       \n",
              "4  4,P101,46,1,6,8,7,7,7,6,7,7,8,7,7,9,3,2,4,1,4,...                                                                                                                                                                                                                                                                                       "
            ]
          },
          "execution_count": 36,
          "metadata": {},
          "output_type": "execute_result"
        }
      ],
      "source": [
        "import pandas as pd\n",
        "nama_file = 'dataset.csv'\n",
        "data = pd.read_csv(nama_file, sep=';')\n",
        "data.head()"
      ]
    },
    {
      "cell_type": "code",
      "execution_count": 37,
      "metadata": {
        "id": "EbVXkTG6K1JC"
      },
      "outputs": [
        {
          "data": {
            "text/html": [
              "<div>\n",
              "<style scoped>\n",
              "    .dataframe tbody tr th:only-of-type {\n",
              "        vertical-align: middle;\n",
              "    }\n",
              "\n",
              "    .dataframe tbody tr th {\n",
              "        vertical-align: top;\n",
              "    }\n",
              "\n",
              "    .dataframe thead th {\n",
              "        text-align: right;\n",
              "    }\n",
              "</style>\n",
              "<table border=\"1\" class=\"dataframe\">\n",
              "  <thead>\n",
              "    <tr style=\"text-align: right;\">\n",
              "      <th></th>\n",
              "      <th>index</th>\n",
              "      <th>Patient Id</th>\n",
              "      <th>Age</th>\n",
              "      <th>Gender</th>\n",
              "      <th>Air Pollution</th>\n",
              "      <th>Alcohol use</th>\n",
              "      <th>Dust Allergy</th>\n",
              "      <th>OccuPational Hazards</th>\n",
              "      <th>Genetic Risk</th>\n",
              "      <th>chronic Lung Disease</th>\n",
              "      <th>...</th>\n",
              "      <th>Fatigue</th>\n",
              "      <th>Weight Loss</th>\n",
              "      <th>Shortness of Breath</th>\n",
              "      <th>Wheezing</th>\n",
              "      <th>Swallowing Difficulty</th>\n",
              "      <th>Clubbing of Finger Nails</th>\n",
              "      <th>Frequent Cold</th>\n",
              "      <th>Dry Cough</th>\n",
              "      <th>Snoring</th>\n",
              "      <th>Level</th>\n",
              "    </tr>\n",
              "  </thead>\n",
              "  <tbody>\n",
              "    <tr>\n",
              "      <th>0</th>\n",
              "      <td>0</td>\n",
              "      <td>P1</td>\n",
              "      <td>33</td>\n",
              "      <td>1</td>\n",
              "      <td>2</td>\n",
              "      <td>4</td>\n",
              "      <td>5</td>\n",
              "      <td>4</td>\n",
              "      <td>3</td>\n",
              "      <td>2</td>\n",
              "      <td>...</td>\n",
              "      <td>3</td>\n",
              "      <td>4</td>\n",
              "      <td>2</td>\n",
              "      <td>2</td>\n",
              "      <td>3</td>\n",
              "      <td>1</td>\n",
              "      <td>2</td>\n",
              "      <td>3</td>\n",
              "      <td>4</td>\n",
              "      <td>Low</td>\n",
              "    </tr>\n",
              "    <tr>\n",
              "      <th>1</th>\n",
              "      <td>1</td>\n",
              "      <td>P10</td>\n",
              "      <td>17</td>\n",
              "      <td>1</td>\n",
              "      <td>3</td>\n",
              "      <td>1</td>\n",
              "      <td>5</td>\n",
              "      <td>3</td>\n",
              "      <td>4</td>\n",
              "      <td>2</td>\n",
              "      <td>...</td>\n",
              "      <td>1</td>\n",
              "      <td>3</td>\n",
              "      <td>7</td>\n",
              "      <td>8</td>\n",
              "      <td>6</td>\n",
              "      <td>2</td>\n",
              "      <td>1</td>\n",
              "      <td>7</td>\n",
              "      <td>2</td>\n",
              "      <td>Medium</td>\n",
              "    </tr>\n",
              "    <tr>\n",
              "      <th>2</th>\n",
              "      <td>2</td>\n",
              "      <td>P100</td>\n",
              "      <td>35</td>\n",
              "      <td>1</td>\n",
              "      <td>4</td>\n",
              "      <td>5</td>\n",
              "      <td>6</td>\n",
              "      <td>5</td>\n",
              "      <td>5</td>\n",
              "      <td>4</td>\n",
              "      <td>...</td>\n",
              "      <td>8</td>\n",
              "      <td>7</td>\n",
              "      <td>9</td>\n",
              "      <td>2</td>\n",
              "      <td>1</td>\n",
              "      <td>4</td>\n",
              "      <td>6</td>\n",
              "      <td>7</td>\n",
              "      <td>2</td>\n",
              "      <td>High</td>\n",
              "    </tr>\n",
              "    <tr>\n",
              "      <th>3</th>\n",
              "      <td>3</td>\n",
              "      <td>P1000</td>\n",
              "      <td>37</td>\n",
              "      <td>1</td>\n",
              "      <td>7</td>\n",
              "      <td>7</td>\n",
              "      <td>7</td>\n",
              "      <td>7</td>\n",
              "      <td>6</td>\n",
              "      <td>7</td>\n",
              "      <td>...</td>\n",
              "      <td>4</td>\n",
              "      <td>2</td>\n",
              "      <td>3</td>\n",
              "      <td>1</td>\n",
              "      <td>4</td>\n",
              "      <td>5</td>\n",
              "      <td>6</td>\n",
              "      <td>7</td>\n",
              "      <td>5</td>\n",
              "      <td>High</td>\n",
              "    </tr>\n",
              "    <tr>\n",
              "      <th>4</th>\n",
              "      <td>4</td>\n",
              "      <td>P101</td>\n",
              "      <td>46</td>\n",
              "      <td>1</td>\n",
              "      <td>6</td>\n",
              "      <td>8</td>\n",
              "      <td>7</td>\n",
              "      <td>7</td>\n",
              "      <td>7</td>\n",
              "      <td>6</td>\n",
              "      <td>...</td>\n",
              "      <td>3</td>\n",
              "      <td>2</td>\n",
              "      <td>4</td>\n",
              "      <td>1</td>\n",
              "      <td>4</td>\n",
              "      <td>2</td>\n",
              "      <td>4</td>\n",
              "      <td>2</td>\n",
              "      <td>3</td>\n",
              "      <td>High</td>\n",
              "    </tr>\n",
              "  </tbody>\n",
              "</table>\n",
              "<p>5 rows × 26 columns</p>\n",
              "</div>"
            ],
            "text/plain": [
              "   index Patient Id  Age  Gender  Air Pollution  Alcohol use  Dust Allergy  \\\n",
              "0      0         P1   33       1              2            4             5   \n",
              "1      1        P10   17       1              3            1             5   \n",
              "2      2       P100   35       1              4            5             6   \n",
              "3      3      P1000   37       1              7            7             7   \n",
              "4      4       P101   46       1              6            8             7   \n",
              "\n",
              "   OccuPational Hazards  Genetic Risk  chronic Lung Disease  ...  Fatigue  \\\n",
              "0                     4             3                     2  ...        3   \n",
              "1                     3             4                     2  ...        1   \n",
              "2                     5             5                     4  ...        8   \n",
              "3                     7             6                     7  ...        4   \n",
              "4                     7             7                     6  ...        3   \n",
              "\n",
              "   Weight Loss  Shortness of Breath  Wheezing  Swallowing Difficulty  \\\n",
              "0            4                    2         2                      3   \n",
              "1            3                    7         8                      6   \n",
              "2            7                    9         2                      1   \n",
              "3            2                    3         1                      4   \n",
              "4            2                    4         1                      4   \n",
              "\n",
              "   Clubbing of Finger Nails  Frequent Cold  Dry Cough  Snoring   Level  \n",
              "0                         1              2          3        4     Low  \n",
              "1                         2              1          7        2  Medium  \n",
              "2                         4              6          7        2    High  \n",
              "3                         5              6          7        5    High  \n",
              "4                         2              4          2        3    High  \n",
              "\n",
              "[5 rows x 26 columns]"
            ]
          },
          "execution_count": 37,
          "metadata": {},
          "output_type": "execute_result"
        }
      ],
      "source": [
        "  data = pd.read_csv(nama_file, delimiter=None)\n",
        "  data.head()"
      ]
    },
    {
      "cell_type": "markdown",
      "metadata": {
        "id": "HGSRZiZRBgOO"
      },
      "source": [
        "**DATA** **CLEANSING**"
      ]
    },
    {
      "cell_type": "code",
      "execution_count": 38,
      "metadata": {
        "colab": {
          "base_uri": "https://localhost:8080/"
        },
        "id": "h2wgznMu_KCL",
        "outputId": "724d0f28-00f5-4b2d-da6c-fbde6d16ba43"
      },
      "outputs": [
        {
          "data": {
            "text/plain": [
              "Index(['index', 'Patient Id', 'Age', 'Gender', 'Air Pollution', 'Alcohol use',\n",
              "       'Dust Allergy', 'OccuPational Hazards', 'Genetic Risk',\n",
              "       'chronic Lung Disease', 'Balanced Diet', 'Obesity', 'Smoking',\n",
              "       'Passive Smoker', 'Chest Pain', 'Coughing of Blood', 'Fatigue',\n",
              "       'Weight Loss', 'Shortness of Breath', 'Wheezing',\n",
              "       'Swallowing Difficulty', 'Clubbing of Finger Nails', 'Frequent Cold',\n",
              "       'Dry Cough', 'Snoring', 'Level'],\n",
              "      dtype='object')"
            ]
          },
          "execution_count": 38,
          "metadata": {},
          "output_type": "execute_result"
        }
      ],
      "source": [
        "data.columns"
      ]
    },
    {
      "cell_type": "code",
      "execution_count": 39,
      "metadata": {
        "colab": {
          "base_uri": "https://localhost:8080/",
          "height": 307
        },
        "id": "KRzIL5NGJG64",
        "outputId": "553a1994-0446-4f39-a053-9231e6137391"
      },
      "outputs": [
        {
          "data": {
            "text/html": [
              "<div>\n",
              "<style scoped>\n",
              "    .dataframe tbody tr th:only-of-type {\n",
              "        vertical-align: middle;\n",
              "    }\n",
              "\n",
              "    .dataframe tbody tr th {\n",
              "        vertical-align: top;\n",
              "    }\n",
              "\n",
              "    .dataframe thead th {\n",
              "        text-align: right;\n",
              "    }\n",
              "</style>\n",
              "<table border=\"1\" class=\"dataframe\">\n",
              "  <thead>\n",
              "    <tr style=\"text-align: right;\">\n",
              "      <th></th>\n",
              "      <th>Age</th>\n",
              "      <th>Gender</th>\n",
              "      <th>Air Pollution</th>\n",
              "      <th>Alcohol use</th>\n",
              "      <th>Dust Allergy</th>\n",
              "      <th>OccuPational Hazards</th>\n",
              "      <th>Genetic Risk</th>\n",
              "      <th>chronic Lung Disease</th>\n",
              "      <th>Balanced Diet</th>\n",
              "      <th>Obesity</th>\n",
              "      <th>...</th>\n",
              "      <th>Fatigue</th>\n",
              "      <th>Weight Loss</th>\n",
              "      <th>Shortness of Breath</th>\n",
              "      <th>Wheezing</th>\n",
              "      <th>Swallowing Difficulty</th>\n",
              "      <th>Clubbing of Finger Nails</th>\n",
              "      <th>Frequent Cold</th>\n",
              "      <th>Dry Cough</th>\n",
              "      <th>Snoring</th>\n",
              "      <th>Level</th>\n",
              "    </tr>\n",
              "  </thead>\n",
              "  <tbody>\n",
              "    <tr>\n",
              "      <th>0</th>\n",
              "      <td>33</td>\n",
              "      <td>1</td>\n",
              "      <td>2</td>\n",
              "      <td>4</td>\n",
              "      <td>5</td>\n",
              "      <td>4</td>\n",
              "      <td>3</td>\n",
              "      <td>2</td>\n",
              "      <td>2</td>\n",
              "      <td>4</td>\n",
              "      <td>...</td>\n",
              "      <td>3</td>\n",
              "      <td>4</td>\n",
              "      <td>2</td>\n",
              "      <td>2</td>\n",
              "      <td>3</td>\n",
              "      <td>1</td>\n",
              "      <td>2</td>\n",
              "      <td>3</td>\n",
              "      <td>4</td>\n",
              "      <td>Low</td>\n",
              "    </tr>\n",
              "    <tr>\n",
              "      <th>1</th>\n",
              "      <td>17</td>\n",
              "      <td>1</td>\n",
              "      <td>3</td>\n",
              "      <td>1</td>\n",
              "      <td>5</td>\n",
              "      <td>3</td>\n",
              "      <td>4</td>\n",
              "      <td>2</td>\n",
              "      <td>2</td>\n",
              "      <td>2</td>\n",
              "      <td>...</td>\n",
              "      <td>1</td>\n",
              "      <td>3</td>\n",
              "      <td>7</td>\n",
              "      <td>8</td>\n",
              "      <td>6</td>\n",
              "      <td>2</td>\n",
              "      <td>1</td>\n",
              "      <td>7</td>\n",
              "      <td>2</td>\n",
              "      <td>Medium</td>\n",
              "    </tr>\n",
              "    <tr>\n",
              "      <th>2</th>\n",
              "      <td>35</td>\n",
              "      <td>1</td>\n",
              "      <td>4</td>\n",
              "      <td>5</td>\n",
              "      <td>6</td>\n",
              "      <td>5</td>\n",
              "      <td>5</td>\n",
              "      <td>4</td>\n",
              "      <td>6</td>\n",
              "      <td>7</td>\n",
              "      <td>...</td>\n",
              "      <td>8</td>\n",
              "      <td>7</td>\n",
              "      <td>9</td>\n",
              "      <td>2</td>\n",
              "      <td>1</td>\n",
              "      <td>4</td>\n",
              "      <td>6</td>\n",
              "      <td>7</td>\n",
              "      <td>2</td>\n",
              "      <td>High</td>\n",
              "    </tr>\n",
              "    <tr>\n",
              "      <th>3</th>\n",
              "      <td>37</td>\n",
              "      <td>1</td>\n",
              "      <td>7</td>\n",
              "      <td>7</td>\n",
              "      <td>7</td>\n",
              "      <td>7</td>\n",
              "      <td>6</td>\n",
              "      <td>7</td>\n",
              "      <td>7</td>\n",
              "      <td>7</td>\n",
              "      <td>...</td>\n",
              "      <td>4</td>\n",
              "      <td>2</td>\n",
              "      <td>3</td>\n",
              "      <td>1</td>\n",
              "      <td>4</td>\n",
              "      <td>5</td>\n",
              "      <td>6</td>\n",
              "      <td>7</td>\n",
              "      <td>5</td>\n",
              "      <td>High</td>\n",
              "    </tr>\n",
              "    <tr>\n",
              "      <th>4</th>\n",
              "      <td>46</td>\n",
              "      <td>1</td>\n",
              "      <td>6</td>\n",
              "      <td>8</td>\n",
              "      <td>7</td>\n",
              "      <td>7</td>\n",
              "      <td>7</td>\n",
              "      <td>6</td>\n",
              "      <td>7</td>\n",
              "      <td>7</td>\n",
              "      <td>...</td>\n",
              "      <td>3</td>\n",
              "      <td>2</td>\n",
              "      <td>4</td>\n",
              "      <td>1</td>\n",
              "      <td>4</td>\n",
              "      <td>2</td>\n",
              "      <td>4</td>\n",
              "      <td>2</td>\n",
              "      <td>3</td>\n",
              "      <td>High</td>\n",
              "    </tr>\n",
              "  </tbody>\n",
              "</table>\n",
              "<p>5 rows × 24 columns</p>\n",
              "</div>"
            ],
            "text/plain": [
              "   Age  Gender  Air Pollution  Alcohol use  Dust Allergy  \\\n",
              "0   33       1              2            4             5   \n",
              "1   17       1              3            1             5   \n",
              "2   35       1              4            5             6   \n",
              "3   37       1              7            7             7   \n",
              "4   46       1              6            8             7   \n",
              "\n",
              "   OccuPational Hazards  Genetic Risk  chronic Lung Disease  Balanced Diet  \\\n",
              "0                     4             3                     2              2   \n",
              "1                     3             4                     2              2   \n",
              "2                     5             5                     4              6   \n",
              "3                     7             6                     7              7   \n",
              "4                     7             7                     6              7   \n",
              "\n",
              "   Obesity  ...  Fatigue  Weight Loss  Shortness of Breath  Wheezing  \\\n",
              "0        4  ...        3            4                    2         2   \n",
              "1        2  ...        1            3                    7         8   \n",
              "2        7  ...        8            7                    9         2   \n",
              "3        7  ...        4            2                    3         1   \n",
              "4        7  ...        3            2                    4         1   \n",
              "\n",
              "   Swallowing Difficulty  Clubbing of Finger Nails  Frequent Cold  Dry Cough  \\\n",
              "0                      3                         1              2          3   \n",
              "1                      6                         2              1          7   \n",
              "2                      1                         4              6          7   \n",
              "3                      4                         5              6          7   \n",
              "4                      4                         2              4          2   \n",
              "\n",
              "   Snoring   Level  \n",
              "0        4     Low  \n",
              "1        2  Medium  \n",
              "2        2    High  \n",
              "3        5    High  \n",
              "4        3    High  \n",
              "\n",
              "[5 rows x 24 columns]"
            ]
          },
          "execution_count": 39,
          "metadata": {},
          "output_type": "execute_result"
        }
      ],
      "source": [
        "selected_columns = ['Age', 'Gender', 'Air Pollution', 'Alcohol use', 'Dust Allergy', 'OccuPational Hazards', 'Genetic Risk', 'chronic Lung Disease', 'Balanced Diet', 'Obesity', 'Smoking', 'Passive Smoker', 'Chest Pain', 'Coughing of Blood', 'Fatigue', 'Weight Loss', 'Shortness of Breath', 'Wheezing', 'Swallowing Difficulty', 'Clubbing of Finger Nails', 'Frequent Cold', 'Dry Cough', 'Snoring', 'Level']\n",
        "databaru = data[selected_columns]\n",
        "databaru.head()\n"
      ]
    },
    {
      "cell_type": "code",
      "execution_count": 40,
      "metadata": {
        "colab": {
          "base_uri": "https://localhost:8080/"
        },
        "id": "XXu4lKaNJUF8",
        "outputId": "3bdc25ad-54d1-48c9-e6a8-9447cab2b8b8"
      },
      "outputs": [
        {
          "data": {
            "text/plain": [
              "Index(['Age', 'Gender', 'Air Pollution', 'Alcohol use', 'Dust Allergy',\n",
              "       'OccuPational Hazards', 'Genetic Risk', 'chronic Lung Disease',\n",
              "       'Balanced Diet', 'Obesity', 'Smoking', 'Passive Smoker', 'Chest Pain',\n",
              "       'Coughing of Blood', 'Fatigue', 'Weight Loss', 'Shortness of Breath',\n",
              "       'Wheezing', 'Swallowing Difficulty', 'Clubbing of Finger Nails',\n",
              "       'Frequent Cold', 'Dry Cough', 'Snoring', 'Level'],\n",
              "      dtype='object')"
            ]
          },
          "execution_count": 40,
          "metadata": {},
          "output_type": "execute_result"
        }
      ],
      "source": [
        "databaru.columns"
      ]
    },
    {
      "cell_type": "code",
      "execution_count": 41,
      "metadata": {
        "colab": {
          "base_uri": "https://localhost:8080/"
        },
        "id": "QqjN5VEt9d2n",
        "outputId": "5f4fb000-b4ac-46c7-ada9-c6854039482b"
      },
      "outputs": [
        {
          "name": "stderr",
          "output_type": "stream",
          "text": [
            "C:\\Users\\ASUS\\AppData\\Local\\Temp\\ipykernel_8360\\2471218849.py:2: SettingWithCopyWarning: \n",
            "A value is trying to be set on a copy of a slice from a DataFrame.\n",
            "Try using .loc[row_indexer,col_indexer] = value instead\n",
            "\n",
            "See the caveats in the documentation: https://pandas.pydata.org/pandas-docs/stable/user_guide/indexing.html#returning-a-view-versus-a-copy\n",
            "  databaru['Level'] = databaru['Level'].map(mapping)\n"
          ]
        }
      ],
      "source": [
        "mapping = {'Low': 1, 'Medium': 2, 'High': 3}\n",
        "databaru['Level'] = databaru['Level'].map(mapping)\n"
      ]
    },
    {
      "cell_type": "code",
      "execution_count": 42,
      "metadata": {
        "colab": {
          "base_uri": "https://localhost:8080/"
        },
        "id": "b_Y0h2iK-KMn",
        "outputId": "bd0ae3b3-18ef-48cb-857c-2f487e9a590e"
      },
      "outputs": [
        {
          "name": "stdout",
          "output_type": "stream",
          "text": [
            "   Age  Gender  Air Pollution  Alcohol use  Dust Allergy  \\\n",
            "0   33       1              2            4             5   \n",
            "1   17       1              3            1             5   \n",
            "2   35       1              4            5             6   \n",
            "3   37       1              7            7             7   \n",
            "4   46       1              6            8             7   \n",
            "\n",
            "   OccuPational Hazards  Genetic Risk  chronic Lung Disease  Balanced Diet  \\\n",
            "0                     4             3                     2              2   \n",
            "1                     3             4                     2              2   \n",
            "2                     5             5                     4              6   \n",
            "3                     7             6                     7              7   \n",
            "4                     7             7                     6              7   \n",
            "\n",
            "   Obesity  ...  Fatigue  Weight Loss  Shortness of Breath  Wheezing  \\\n",
            "0        4  ...        3            4                    2         2   \n",
            "1        2  ...        1            3                    7         8   \n",
            "2        7  ...        8            7                    9         2   \n",
            "3        7  ...        4            2                    3         1   \n",
            "4        7  ...        3            2                    4         1   \n",
            "\n",
            "   Swallowing Difficulty  Clubbing of Finger Nails  Frequent Cold  Dry Cough  \\\n",
            "0                      3                         1              2          3   \n",
            "1                      6                         2              1          7   \n",
            "2                      1                         4              6          7   \n",
            "3                      4                         5              6          7   \n",
            "4                      4                         2              4          2   \n",
            "\n",
            "   Snoring  Level  \n",
            "0        4      1  \n",
            "1        2      2  \n",
            "2        2      3  \n",
            "3        5      3  \n",
            "4        3      3  \n",
            "\n",
            "[5 rows x 24 columns]\n"
          ]
        }
      ],
      "source": [
        "print(databaru.head())"
      ]
    },
    {
      "cell_type": "code",
      "execution_count": 43,
      "metadata": {
        "colab": {
          "base_uri": "https://localhost:8080/"
        },
        "id": "NadZgzXe3-GN",
        "outputId": "4ec7651d-840e-4db6-dd4a-2edf8f2334ff"
      },
      "outputs": [
        {
          "name": "stdout",
          "output_type": "stream",
          "text": [
            "Age                         0\n",
            "Gender                      0\n",
            "Air Pollution               0\n",
            "Alcohol use                 0\n",
            "Dust Allergy                0\n",
            "OccuPational Hazards        0\n",
            "Genetic Risk                0\n",
            "chronic Lung Disease        0\n",
            "Balanced Diet               0\n",
            "Obesity                     0\n",
            "Smoking                     0\n",
            "Passive Smoker              0\n",
            "Chest Pain                  0\n",
            "Coughing of Blood           0\n",
            "Fatigue                     0\n",
            "Weight Loss                 0\n",
            "Shortness of Breath         0\n",
            "Wheezing                    0\n",
            "Swallowing Difficulty       0\n",
            "Clubbing of Finger Nails    0\n",
            "Frequent Cold               0\n",
            "Dry Cough                   0\n",
            "Snoring                     0\n",
            "Level                       0\n",
            "dtype: int64\n"
          ]
        }
      ],
      "source": [
        "nan = databaru.isna().sum()\n",
        "print(nan)"
      ]
    },
    {
      "cell_type": "code",
      "execution_count": 44,
      "metadata": {
        "colab": {
          "base_uri": "https://localhost:8080/"
        },
        "id": "0dqsKZp04Q8h",
        "outputId": "c6a19c37-6ea9-4ee6-e0b9-c286214d1f04"
      },
      "outputs": [
        {
          "name": "stdout",
          "output_type": "stream",
          "text": [
            "Empty DataFrame\n",
            "Columns: [Age, Gender, Air Pollution, Alcohol use, Dust Allergy, OccuPational Hazards, Genetic Risk, chronic Lung Disease, Balanced Diet, Obesity, Smoking, Passive Smoker, Chest Pain, Coughing of Blood, Fatigue, Weight Loss, Shortness of Breath, Wheezing, Swallowing Difficulty, Clubbing of Finger Nails, Frequent Cold, Dry Cough, Snoring, Level]\n",
            "Index: []\n",
            "\n",
            "[0 rows x 24 columns]\n"
          ]
        }
      ],
      "source": [
        "duplikat = databaru[data.duplicated()]\n",
        "print(duplikat)"
      ]
    },
    {
      "cell_type": "markdown",
      "metadata": {
        "id": "j25cbEjT5TEA"
      },
      "source": [
        "**PREPOSESSING**"
      ]
    },
    {
      "cell_type": "code",
      "execution_count": 45,
      "metadata": {
        "id": "PHTphmsY40PD"
      },
      "outputs": [],
      "source": [
        "from sklearn.preprocessing import MinMaxScaler"
      ]
    },
    {
      "cell_type": "code",
      "execution_count": 46,
      "metadata": {
        "colab": {
          "base_uri": "https://localhost:8080/"
        },
        "id": "SxW4vxux6mKP",
        "outputId": "ebb0eddf-cb94-4814-edf5-c4948b057631"
      },
      "outputs": [
        {
          "name": "stdout",
          "output_type": "stream",
          "text": [
            "Nilai Minimum dari Setiap Kolom:\n",
            "Age                         14\n",
            "Gender                       1\n",
            "Air Pollution                1\n",
            "Alcohol use                  1\n",
            "Dust Allergy                 1\n",
            "OccuPational Hazards         1\n",
            "Genetic Risk                 1\n",
            "chronic Lung Disease         1\n",
            "Balanced Diet                1\n",
            "Obesity                      1\n",
            "Smoking                      1\n",
            "Passive Smoker               1\n",
            "Chest Pain                   1\n",
            "Coughing of Blood            1\n",
            "Fatigue                      1\n",
            "Weight Loss                  1\n",
            "Shortness of Breath          1\n",
            "Wheezing                     1\n",
            "Swallowing Difficulty        1\n",
            "Clubbing of Finger Nails     1\n",
            "Frequent Cold                1\n",
            "Dry Cough                    1\n",
            "Snoring                      1\n",
            "Level                        1\n",
            "dtype: int64\n",
            "\n",
            "Nilai Maksimum dari Setiap Kolom:\n",
            "Age                         73\n",
            "Gender                       2\n",
            "Air Pollution                8\n",
            "Alcohol use                  8\n",
            "Dust Allergy                 8\n",
            "OccuPational Hazards         8\n",
            "Genetic Risk                 7\n",
            "chronic Lung Disease         7\n",
            "Balanced Diet                7\n",
            "Obesity                      7\n",
            "Smoking                      8\n",
            "Passive Smoker               8\n",
            "Chest Pain                   9\n",
            "Coughing of Blood            9\n",
            "Fatigue                      9\n",
            "Weight Loss                  8\n",
            "Shortness of Breath          9\n",
            "Wheezing                     8\n",
            "Swallowing Difficulty        8\n",
            "Clubbing of Finger Nails     9\n",
            "Frequent Cold                7\n",
            "Dry Cough                    7\n",
            "Snoring                      7\n",
            "Level                        3\n",
            "dtype: int64\n"
          ]
        }
      ],
      "source": [
        "nilai_min = databaru.min()\n",
        "nilai_max = databaru.max()\n",
        "print(\"Nilai Minimum dari Setiap Kolom:\")\n",
        "print(nilai_min)\n",
        "\n",
        "print(\"\\nNilai Maksimum dari Setiap Kolom:\")\n",
        "print(nilai_max)"
      ]
    },
    {
      "cell_type": "markdown",
      "metadata": {
        "id": "xuLVOKgd9a8y"
      },
      "source": [
        "**Ekstraksi fitur (PCA)**"
      ]
    },
    {
      "cell_type": "code",
      "execution_count": 47,
      "metadata": {
        "colab": {
          "base_uri": "https://localhost:8080/"
        },
        "id": "E2B2potw8zc1",
        "outputId": "0f9e4cbe-88a4-421f-dad4-077b28fdb296"
      },
      "outputs": [
        {
          "data": {
            "text/plain": [
              "array([5.95422495e-01, 1.80039661e-01, 5.59291534e-02, 3.62639183e-02,\n",
              "       2.82970894e-02, 2.13689474e-02, 1.18742208e-02, 1.11445233e-02,\n",
              "       1.03793606e-02, 9.70021555e-03, 7.97569867e-03, 5.50767478e-03,\n",
              "       5.21321024e-03, 4.52580787e-03, 4.16255753e-03, 3.04464536e-03,\n",
              "       2.37625878e-03, 1.97278375e-03, 1.58181184e-03, 1.35868051e-03,\n",
              "       7.66722709e-04, 6.22761545e-04, 4.71801856e-04])"
            ]
          },
          "execution_count": 47,
          "metadata": {},
          "output_type": "execute_result"
        }
      ],
      "source": [
        "from sklearn.decomposition import PCA\n",
        "import pandas as pd\n",
        "import numpy as np\n",
        "\n",
        "data_pca= databaru.drop(['Level'],axis=1)\n",
        "pca = PCA(n_components=23)\n",
        "pca.fit(data_pca)\n",
        "# Mengambil persentase varians yang dijelaskan oleh setiap komponen utama\n",
        "explained_variance_ratio = pca.explained_variance_ratio_\n",
        "explained_variance_ratio\n",
        "\n",
        "# cumulative_var_ratio = np.cumsum(explained_variance_ratio)\n",
        "# plt.plot(range(1, len(cumulative_var_ratio) + 1), cumulative_var_ratio, marker='o')\n",
        "# plt.xlabel('Number of Principal Components')\n",
        "# plt.ylabel('Cumulative Explained Variance Ratio')\n",
        "# plt.title('Explained Variance Ratio vs. Number of Principal Components')\n",
        "# plt.show()"
      ]
    },
    {
      "cell_type": "code",
      "execution_count": 48,
      "metadata": {
        "colab": {
          "base_uri": "https://localhost:8080/",
          "height": 521
        },
        "id": "2k8gS7Z8crTj",
        "outputId": "228bd6a0-8416-4777-f2c8-d64fcfd7e6df"
      },
      "outputs": [
        {
          "data": {
            "image/png": "[encoded data removed]",
            "text/plain": [
              "<Figure size 1200x700 with 1 Axes>"
            ]
          },
          "metadata": {},
          "output_type": "display_data"
        }
      ],
      "source": [
        "import numpy as np\n",
        "import matplotlib.pyplot as plt\n",
        "\n",
        "# Individual explained variances for 23 components\n",
        "individual_variances = [5.95422495e-01, 1.80039661e-01, 5.59291534e-02, 3.62639183e-02,\n",
        "       2.82970894e-02, 2.13689474e-02, 1.18742208e-02, 1.11445233e-02,\n",
        "       1.03793606e-02, 9.70021555e-03, 7.97569867e-03, 5.50767478e-03,\n",
        "       5.21321024e-03, 4.52580787e-03, 4.16255753e-03, 3.04464536e-03,\n",
        "       2.37625878e-03, 1.97278375e-03, 1.58181184e-03, 1.35868051e-03,\n",
        "       7.66722709e-04, 6.22761545e-04, 4.71801856e-04]\n",
        "# Compute the cumulative explained variance\n",
        "cumulative_variances = np.cumsum(individual_variances)\n",
        "\n",
        "# Create the bar plot for individual variances\n",
        "plt.figure(figsize=(12, 7))\n",
        "bar = plt.bar(range(1, 24), individual_variances, alpha=0.6, color='g', label='Individual Explained Variance')\n",
        "\n",
        "# Create the line plot for cumulative variance\n",
        "line = plt.plot(range(1, 24), cumulative_variances, marker='o', linestyle='-', color='r',\n",
        "                label='Cumulative Explained Variance')\n",
        "\n",
        "# Adding percentage values on top of bars and dots\n",
        "for i, (bar, cum_val) in enumerate(zip(bar, cumulative_variances)):\n",
        "    plt.text(bar.get_x() + bar.get_width() / 2, bar.get_height(), f'{individual_variances[i]*100:.1f}%',\n",
        "             ha='center', va='bottom')\n",
        "    plt.text(i+1, cum_val, f'{cum_val*100:.1f}%', ha='center', va='bottom')\n",
        "\n",
        "# Aesthetics for the plot\n",
        "plt.xlabel('Principal Components')\n",
        "plt.ylabel('Explained Variance')\n",
        "plt.title('Explained Variance by Different Principal Components')\n",
        "plt.xticks(range(1, 24))\n",
        "plt.legend(loc='upper left')\n",
        "plt.ylim(0, 1.1)  # extend y-axis limit to accommodate text labels\n",
        "plt.grid(True)\n",
        "plt.show()"
      ]
    },
    {
      "cell_type": "code",
      "execution_count": 49,
      "metadata": {
        "colab": {
          "base_uri": "https://localhost:8080/",
          "height": 423
        },
        "id": "IkcJpnQHb2u3",
        "outputId": "42484983-1fce-4ea9-ec85-578f6759680b"
      },
      "outputs": [
        {
          "data": {
            "text/html": [
              "<div>\n",
              "<style scoped>\n",
              "    .dataframe tbody tr th:only-of-type {\n",
              "        vertical-align: middle;\n",
              "    }\n",
              "\n",
              "    .dataframe tbody tr th {\n",
              "        vertical-align: top;\n",
              "    }\n",
              "\n",
              "    .dataframe thead th {\n",
              "        text-align: right;\n",
              "    }\n",
              "</style>\n",
              "<table border=\"1\" class=\"dataframe\">\n",
              "  <thead>\n",
              "    <tr style=\"text-align: right;\">\n",
              "      <th></th>\n",
              "      <th>variabel 1</th>\n",
              "      <th>variabel 2</th>\n",
              "      <th>variabel 3</th>\n",
              "      <th>variabel 4</th>\n",
              "      <th>variabel 5</th>\n",
              "      <th>variabel 6</th>\n",
              "      <th>variabel 7</th>\n",
              "    </tr>\n",
              "  </thead>\n",
              "  <tbody>\n",
              "    <tr>\n",
              "      <th>0</th>\n",
              "      <td>-4.431298</td>\n",
              "      <td>-5.302214</td>\n",
              "      <td>-1.414517</td>\n",
              "      <td>-0.403019</td>\n",
              "      <td>1.285430</td>\n",
              "      <td>-1.621604</td>\n",
              "      <td>-0.220593</td>\n",
              "    </tr>\n",
              "    <tr>\n",
              "      <th>1</th>\n",
              "      <td>-20.666458</td>\n",
              "      <td>-4.464241</td>\n",
              "      <td>2.235441</td>\n",
              "      <td>1.307961</td>\n",
              "      <td>-2.341041</td>\n",
              "      <td>0.388773</td>\n",
              "      <td>2.809091</td>\n",
              "    </tr>\n",
              "    <tr>\n",
              "      <th>2</th>\n",
              "      <td>-1.795731</td>\n",
              "      <td>3.620335</td>\n",
              "      <td>6.032208</td>\n",
              "      <td>2.130937</td>\n",
              "      <td>6.845687</td>\n",
              "      <td>-1.401833</td>\n",
              "      <td>0.208770</td>\n",
              "    </tr>\n",
              "    <tr>\n",
              "      <th>3</th>\n",
              "      <td>0.336613</td>\n",
              "      <td>8.390200</td>\n",
              "      <td>-2.862648</td>\n",
              "      <td>-0.352008</td>\n",
              "      <td>2.226762</td>\n",
              "      <td>4.195593</td>\n",
              "      <td>-1.964770</td>\n",
              "    </tr>\n",
              "    <tr>\n",
              "      <th>4</th>\n",
              "      <td>9.299772</td>\n",
              "      <td>7.611786</td>\n",
              "      <td>-5.754806</td>\n",
              "      <td>-1.524864</td>\n",
              "      <td>1.607876</td>\n",
              "      <td>-0.496393</td>\n",
              "      <td>-0.505884</td>\n",
              "    </tr>\n",
              "    <tr>\n",
              "      <th>...</th>\n",
              "      <td>...</td>\n",
              "      <td>...</td>\n",
              "      <td>...</td>\n",
              "      <td>...</td>\n",
              "      <td>...</td>\n",
              "      <td>...</td>\n",
              "      <td>...</td>\n",
              "    </tr>\n",
              "    <tr>\n",
              "      <th>995</th>\n",
              "      <td>7.096799</td>\n",
              "      <td>7.644885</td>\n",
              "      <td>-4.317295</td>\n",
              "      <td>3.416503</td>\n",
              "      <td>-3.308967</td>\n",
              "      <td>0.570498</td>\n",
              "      <td>1.123365</td>\n",
              "    </tr>\n",
              "    <tr>\n",
              "      <th>996</th>\n",
              "      <td>0.457560</td>\n",
              "      <td>9.354700</td>\n",
              "      <td>-0.470724</td>\n",
              "      <td>1.513627</td>\n",
              "      <td>-1.019831</td>\n",
              "      <td>-3.330438</td>\n",
              "      <td>-0.583103</td>\n",
              "    </tr>\n",
              "    <tr>\n",
              "      <th>997</th>\n",
              "      <td>-11.773583</td>\n",
              "      <td>4.220950</td>\n",
              "      <td>6.168026</td>\n",
              "      <td>1.935515</td>\n",
              "      <td>7.016986</td>\n",
              "      <td>-1.522320</td>\n",
              "      <td>-0.040665</td>\n",
              "    </tr>\n",
              "    <tr>\n",
              "      <th>998</th>\n",
              "      <td>-18.622860</td>\n",
              "      <td>9.321051</td>\n",
              "      <td>-5.384361</td>\n",
              "      <td>-2.064369</td>\n",
              "      <td>2.059453</td>\n",
              "      <td>-0.808908</td>\n",
              "      <td>-1.223066</td>\n",
              "    </tr>\n",
              "    <tr>\n",
              "      <th>999</th>\n",
              "      <td>10.210295</td>\n",
              "      <td>3.341895</td>\n",
              "      <td>5.895450</td>\n",
              "      <td>2.136581</td>\n",
              "      <td>6.697416</td>\n",
              "      <td>-1.303772</td>\n",
              "      <td>-0.404387</td>\n",
              "    </tr>\n",
              "  </tbody>\n",
              "</table>\n",
              "<p>1000 rows × 7 columns</p>\n",
              "</div>"
            ],
            "text/plain": [
              "     variabel 1  variabel 2  variabel 3  variabel 4  variabel 5  variabel 6  \\\n",
              "0     -4.431298   -5.302214   -1.414517   -0.403019    1.285430   -1.621604   \n",
              "1    -20.666458   -4.464241    2.235441    1.307961   -2.341041    0.388773   \n",
              "2     -1.795731    3.620335    6.032208    2.130937    6.845687   -1.401833   \n",
              "3      0.336613    8.390200   -2.862648   -0.352008    2.226762    4.195593   \n",
              "4      9.299772    7.611786   -5.754806   -1.524864    1.607876   -0.496393   \n",
              "..          ...         ...         ...         ...         ...         ...   \n",
              "995    7.096799    7.644885   -4.317295    3.416503   -3.308967    0.570498   \n",
              "996    0.457560    9.354700   -0.470724    1.513627   -1.019831   -3.330438   \n",
              "997  -11.773583    4.220950    6.168026    1.935515    7.016986   -1.522320   \n",
              "998  -18.622860    9.321051   -5.384361   -2.064369    2.059453   -0.808908   \n",
              "999   10.210295    3.341895    5.895450    2.136581    6.697416   -1.303772   \n",
              "\n",
              "     variabel 7  \n",
              "0     -0.220593  \n",
              "1      2.809091  \n",
              "2      0.208770  \n",
              "3     -1.964770  \n",
              "4     -0.505884  \n",
              "..          ...  \n",
              "995    1.123365  \n",
              "996   -0.583103  \n",
              "997   -0.040665  \n",
              "998   -1.223066  \n",
              "999   -0.404387  \n",
              "\n",
              "[1000 rows x 7 columns]"
            ]
          },
          "execution_count": 49,
          "metadata": {},
          "output_type": "execute_result"
        }
      ],
      "source": [
        "from sklearn.decomposition import PCA\n",
        "import pandas as pd\n",
        "import numpy as np\n",
        "\n",
        "data_pca= databaru.drop(['Level'],axis=1)\n",
        "pca = PCA(n_components=7)\n",
        "pca.fit(data_pca)\n",
        "PCA_ds = pd.DataFrame(pca.transform(data_pca), columns=[\"variabel 1\",'variabel 2','variabel 3','variabel 4','variabel 5','variabel 6','variabel 7'])\n",
        "PCA_ds"
      ]
    },
    {
      "cell_type": "code",
      "execution_count": 50,
      "metadata": {
        "colab": {
          "base_uri": "https://localhost:8080/"
        },
        "id": "BKvlv4TFURI0",
        "outputId": "506f0d5c-8f09-4650-bf4a-db81a9dd138c"
      },
      "outputs": [
        {
          "data": {
            "text/plain": [
              "(1000, 7)"
            ]
          },
          "execution_count": 50,
          "metadata": {},
          "output_type": "execute_result"
        }
      ],
      "source": [
        "PCA_ds.shape"
      ]
    },
    {
      "cell_type": "code",
      "execution_count": 51,
      "metadata": {
        "colab": {
          "base_uri": "https://localhost:8080/",
          "height": 269
        },
        "id": "Cyb5h_X5ACzx",
        "outputId": "8fff4534-a982-4589-d13f-20df8e382ed9"
      },
      "outputs": [
        {
          "data": {
            "text/html": [
              "<div>\n",
              "<style scoped>\n",
              "    .dataframe tbody tr th:only-of-type {\n",
              "        vertical-align: middle;\n",
              "    }\n",
              "\n",
              "    .dataframe tbody tr th {\n",
              "        vertical-align: top;\n",
              "    }\n",
              "\n",
              "    .dataframe thead th {\n",
              "        text-align: right;\n",
              "    }\n",
              "</style>\n",
              "<table border=\"1\" class=\"dataframe\">\n",
              "  <thead>\n",
              "    <tr style=\"text-align: right;\">\n",
              "      <th></th>\n",
              "      <th>count</th>\n",
              "      <th>mean</th>\n",
              "      <th>std</th>\n",
              "      <th>min</th>\n",
              "      <th>25%</th>\n",
              "      <th>50%</th>\n",
              "      <th>75%</th>\n",
              "      <th>max</th>\n",
              "    </tr>\n",
              "  </thead>\n",
              "  <tbody>\n",
              "    <tr>\n",
              "      <th>variabel 1</th>\n",
              "      <td>1000.0</td>\n",
              "      <td>1.705303e-16</td>\n",
              "      <td>12.035040</td>\n",
              "      <td>-23.032017</td>\n",
              "      <td>-9.666456</td>\n",
              "      <td>-1.635754</td>\n",
              "      <td>7.427067</td>\n",
              "      <td>36.037774</td>\n",
              "    </tr>\n",
              "    <tr>\n",
              "      <th>variabel 2</th>\n",
              "      <td>1000.0</td>\n",
              "      <td>1.136868e-16</td>\n",
              "      <td>6.617882</td>\n",
              "      <td>-10.407701</td>\n",
              "      <td>-6.339195</td>\n",
              "      <td>0.422741</td>\n",
              "      <td>7.398518</td>\n",
              "      <td>10.478651</td>\n",
              "    </tr>\n",
              "    <tr>\n",
              "      <th>variabel 3</th>\n",
              "      <td>1000.0</td>\n",
              "      <td>-1.065814e-16</td>\n",
              "      <td>3.688536</td>\n",
              "      <td>-5.963363</td>\n",
              "      <td>-2.648131</td>\n",
              "      <td>-0.865602</td>\n",
              "      <td>2.921217</td>\n",
              "      <td>7.605390</td>\n",
              "    </tr>\n",
              "    <tr>\n",
              "      <th>variabel 4</th>\n",
              "      <td>1000.0</td>\n",
              "      <td>-1.847411e-16</td>\n",
              "      <td>2.970108</td>\n",
              "      <td>-6.246762</td>\n",
              "      <td>-1.786557</td>\n",
              "      <td>-0.288469</td>\n",
              "      <td>2.126672</td>\n",
              "      <td>6.380879</td>\n",
              "    </tr>\n",
              "    <tr>\n",
              "      <th>variabel 5</th>\n",
              "      <td>1000.0</td>\n",
              "      <td>2.486900e-17</td>\n",
              "      <td>2.623649</td>\n",
              "      <td>-4.751868</td>\n",
              "      <td>-1.895180</td>\n",
              "      <td>0.073517</td>\n",
              "      <td>1.358741</td>\n",
              "      <td>7.016986</td>\n",
              "    </tr>\n",
              "    <tr>\n",
              "      <th>variabel 6</th>\n",
              "      <td>1000.0</td>\n",
              "      <td>-2.202682e-16</td>\n",
              "      <td>2.279956</td>\n",
              "      <td>-4.118483</td>\n",
              "      <td>-1.415638</td>\n",
              "      <td>-0.085480</td>\n",
              "      <td>1.514125</td>\n",
              "      <td>6.645276</td>\n",
              "    </tr>\n",
              "    <tr>\n",
              "      <th>variabel 7</th>\n",
              "      <td>1000.0</td>\n",
              "      <td>2.753353e-17</td>\n",
              "      <td>1.699564</td>\n",
              "      <td>-3.407703</td>\n",
              "      <td>-1.223066</td>\n",
              "      <td>-0.096187</td>\n",
              "      <td>0.757244</td>\n",
              "      <td>6.002175</td>\n",
              "    </tr>\n",
              "  </tbody>\n",
              "</table>\n",
              "</div>"
            ],
            "text/plain": [
              "             count          mean        std        min       25%       50%  \\\n",
              "variabel 1  1000.0  1.705303e-16  12.035040 -23.032017 -9.666456 -1.635754   \n",
              "variabel 2  1000.0  1.136868e-16   6.617882 -10.407701 -6.339195  0.422741   \n",
              "variabel 3  1000.0 -1.065814e-16   3.688536  -5.963363 -2.648131 -0.865602   \n",
              "variabel 4  1000.0 -1.847411e-16   2.970108  -6.246762 -1.786557 -0.288469   \n",
              "variabel 5  1000.0  2.486900e-17   2.623649  -4.751868 -1.895180  0.073517   \n",
              "variabel 6  1000.0 -2.202682e-16   2.279956  -4.118483 -1.415638 -0.085480   \n",
              "variabel 7  1000.0  2.753353e-17   1.699564  -3.407703 -1.223066 -0.096187   \n",
              "\n",
              "                 75%        max  \n",
              "variabel 1  7.427067  36.037774  \n",
              "variabel 2  7.398518  10.478651  \n",
              "variabel 3  2.921217   7.605390  \n",
              "variabel 4  2.126672   6.380879  \n",
              "variabel 5  1.358741   7.016986  \n",
              "variabel 6  1.514125   6.645276  \n",
              "variabel 7  0.757244   6.002175  "
            ]
          },
          "execution_count": 51,
          "metadata": {},
          "output_type": "execute_result"
        }
      ],
      "source": [
        "PCA_ds.describe().T"
      ]
    },
    {
      "cell_type": "markdown",
      "metadata": {
        "id": "liyiIRfS3_69"
      },
      "source": [
        "*Kalkulasi matriks covariance*"
      ]
    },
    {
      "cell_type": "code",
      "execution_count": 52,
      "metadata": {
        "colab": {
          "base_uri": "https://localhost:8080/"
        },
        "id": "KxR4Nb4C4KvR",
        "outputId": "144c367c-baf1-4091-e2c4-1387e2035d79"
      },
      "outputs": [
        {
          "name": "stdout",
          "output_type": "stream",
          "text": [
            "Matriks Kovariansi dari Data yang Sudah Diproses PCA:\n",
            "[[ 1.44842184e+02 -1.24953101e-12 -1.30159480e-15 -9.95755586e-16\n",
            "  -7.98026976e-15  7.11253990e-15  1.63872919e-14]\n",
            " [-1.24953101e-12  4.37963596e+01  1.95964699e-13  2.12522692e-14\n",
            "  -9.20647164e-14  1.37300470e-13 -9.09864554e-13]\n",
            " [-1.30159480e-15  1.95964699e-13  1.36052984e+01  3.35031924e-12\n",
            "  -4.46622270e-11  3.19523351e-11  1.82114416e-10]\n",
            " [-9.95755586e-16  2.12522692e-14  3.35031924e-12  8.82154298e+00\n",
            "  -2.39157703e-10  1.99097121e-10  4.47906432e-10]\n",
            " [-7.98026976e-15 -9.20647164e-14 -4.46622270e-11 -2.39157703e-10\n",
            "   6.88353609e+00 -2.17537060e-09 -8.40360421e-09]\n",
            " [ 7.11253990e-15  1.37300470e-13  3.19523351e-11  1.99097121e-10\n",
            "  -2.17537060e-09  5.19819967e+00  4.45941244e-09]\n",
            " [ 1.63872919e-14 -9.09864554e-13  1.82114416e-10  4.47906432e-10\n",
            "  -8.40360421e-09  4.45941244e-09  2.88851711e+00]]\n"
          ]
        }
      ],
      "source": [
        "def covariance_matrix(data):\n",
        "    n_samples = data.shape[0]\n",
        "    centered_data = data - np.mean(data, axis=0)\n",
        "    covariance_matrix = np.dot(centered_data.T, centered_data) / (n_samples - 1)\n",
        "    return covariance_matrix\n",
        "\n",
        "covariance_matrix_pca = covariance_matrix(PCA_ds)\n",
        "print(\"Matriks Kovariansi dari Data yang Sudah Diproses PCA:\")\n",
        "print(covariance_matrix_pca)\n"
      ]
    },
    {
      "cell_type": "code",
      "execution_count": 53,
      "metadata": {
        "colab": {
          "base_uri": "https://localhost:8080/"
        },
        "id": "SrD6zDZi5thL",
        "outputId": "2cac5eaf-e538-43fd-eafc-0e012818a1f2"
      },
      "outputs": [
        {
          "name": "stdout",
          "output_type": "stream",
          "text": [
            "Nilai Eigen:\n",
            "[144.84218405  43.79635963  13.60529843   2.88851711   5.19819967\n",
            "   6.88353609   8.82154298]\n",
            "\n",
            "Vektor Eigen:\n",
            "[[-1.00000000e+00 -1.23659836e-14  9.91790376e-18  1.15441131e-16\n",
            "  -5.09333786e-17 -5.78453756e-17 -7.32062116e-18]\n",
            " [ 1.23660520e-14 -1.00000000e+00 -6.49006289e-15 -2.22437621e-14\n",
            "  -3.55546287e-15 -2.49512036e-15  6.08020863e-16]\n",
            " [ 6.69548373e-28 -6.49229061e-15  1.00000000e+00  1.69933158e-11\n",
            "  -3.80094703e-12 -6.64410118e-12  7.00340752e-13]\n",
            " [ 7.51399711e-30 -6.07631048e-16  6.99979585e-13  7.54937770e-11\n",
            "  -5.49485540e-11 -1.23403283e-10 -1.00000000e+00]\n",
            " [-3.08436248e-29  2.49421763e-15 -6.64422293e-12 -2.10352064e-09\n",
            "   1.29076473e-09 -1.00000000e+00  1.23403678e-10]\n",
            " [ 4.39973195e-29 -3.55791158e-15  3.80104383e-12  1.93074687e-09\n",
            "   1.00000000e+00  1.29076422e-09 -5.49485981e-11]\n",
            " [-2.75003434e-28  2.22385798e-14  1.69938195e-11 -1.00000000e+00\n",
            "   1.93074671e-09  2.10352050e-09 -7.54937350e-11]]\n"
          ]
        }
      ],
      "source": [
        "# Eigen decomposition\n",
        "eigenvalues, eigenvectors = np.linalg.eig(covariance_matrix_pca)\n",
        "\n",
        "# Menampilkan nilai eigen\n",
        "print(\"Nilai Eigen:\")\n",
        "print(eigenvalues)\n",
        "\n",
        "# Menampilkan vektor eigen\n",
        "print(\"\\nVektor Eigen:\")\n",
        "print(eigenvectors)"
      ]
    },
    {
      "cell_type": "code",
      "execution_count": 54,
      "metadata": {
        "colab": {
          "base_uri": "https://localhost:8080/"
        },
        "id": "YOWaGNea6DKo",
        "outputId": "47cea934-d236-45cc-ae9b-be117782d4e2"
      },
      "outputs": [
        {
          "name": "stdout",
          "output_type": "stream",
          "text": [
            "Didapatkan maksimal nilai PC sebesar 7 dengan nilai variance 100.0 %\n"
          ]
        }
      ],
      "source": [
        "def extract_principal_components(eigenvalues, variance_threshold):\n",
        "    total_variance = np.sum(eigenvalues)\n",
        "    variance_ratio = eigenvalues / total_variance\n",
        "    cumulative_variance_ratio = np.cumsum(variance_ratio)\n",
        "    n_components = np.argmax(cumulative_variance_ratio >= variance_threshold) + 1\n",
        "    return n_components\n",
        "\n",
        "variance_threshold = 1.0\n",
        "max_pc = extract_principal_components(eigenvalues, variance_threshold)\n",
        "print(\"Didapatkan maksimal nilai PC sebesar\", max_pc, \"dengan nilai variance\", variance_threshold*100, \"%\")"
      ]
    },
    {
      "cell_type": "markdown",
      "metadata": {
        "id": "kqRjzp6074aX"
      },
      "source": [
        "dengan ini maka tetap mempertahankan 7 komponen PCA"
      ]
    },
    {
      "cell_type": "code",
      "execution_count": 55,
      "metadata": {
        "colab": {
          "base_uri": "https://localhost:8080/"
        },
        "id": "eNCxu7K023lO",
        "outputId": "b01bf152-dfd4-45b4-e097-9a393b5501a4"
      },
      "outputs": [
        {
          "name": "stdout",
          "output_type": "stream",
          "text": [
            "Requirement already satisfied: seaborn in c:\\users\\asus\\appdata\\local\\programs\\python\\python311\\lib\\site-packages (0.12.2)Note: you may need to restart the kernel to use updated packages.\n",
            "\n",
            "Requirement already satisfied: numpy!=1.24.0,>=1.17 in c:\\users\\asus\\appdata\\local\\programs\\python\\python311\\lib\\site-packages (from seaborn) (1.23.5)\n",
            "Requirement already satisfied: pandas>=0.25 in c:\\users\\asus\\appdata\\local\\programs\\python\\python311\\lib\\site-packages (from seaborn) (1.5.2)\n",
            "Requirement already satisfied: matplotlib!=3.6.1,>=3.1 in c:\\users\\asus\\appdata\\local\\programs\\python\\python311\\lib\\site-packages (from seaborn) (3.8.2)\n",
            "Requirement already satisfied: contourpy>=1.0.1 in c:\\users\\asus\\appdata\\local\\programs\\python\\python311\\lib\\site-packages (from matplotlib!=3.6.1,>=3.1->seaborn) (1.0.7)\n",
            "Requirement already satisfied: cycler>=0.10 in c:\\users\\asus\\appdata\\local\\programs\\python\\python311\\lib\\site-packages (from matplotlib!=3.6.1,>=3.1->seaborn) (0.11.0)\n",
            "Requirement already satisfied: fonttools>=4.22.0 in c:\\users\\asus\\appdata\\local\\programs\\python\\python311\\lib\\site-packages (from matplotlib!=3.6.1,>=3.1->seaborn) (4.38.0)\n",
            "Requirement already satisfied: kiwisolver>=1.3.1 in c:\\users\\asus\\appdata\\local\\programs\\python\\python311\\lib\\site-packages (from matplotlib!=3.6.1,>=3.1->seaborn) (1.4.4)\n",
            "Requirement already satisfied: packaging>=20.0 in c:\\users\\asus\\appdata\\local\\programs\\python\\python311\\lib\\site-packages (from matplotlib!=3.6.1,>=3.1->seaborn) (23.0)\n",
            "Requirement already satisfied: pillow>=8 in c:\\users\\asus\\appdata\\local\\programs\\python\\python311\\lib\\site-packages (from matplotlib!=3.6.1,>=3.1->seaborn) (9.3.0)\n",
            "Requirement already satisfied: pyparsing>=2.3.1 in c:\\users\\asus\\appdata\\local\\programs\\python\\python311\\lib\\site-packages (from matplotlib!=3.6.1,>=3.1->seaborn) (3.0.9)\n",
            "Requirement already satisfied: python-dateutil>=2.7 in c:\\users\\asus\\appdata\\local\\programs\\python\\python311\\lib\\site-packages (from matplotlib!=3.6.1,>=3.1->seaborn) (2.8.2)\n",
            "Requirement already satisfied: pytz>=2020.1 in c:\\users\\asus\\appdata\\local\\programs\\python\\python311\\lib\\site-packages (from pandas>=0.25->seaborn) (2023.3)\n",
            "Requirement already satisfied: six>=1.5 in c:\\users\\asus\\appdata\\local\\programs\\python\\python311\\lib\\site-packages (from python-dateutil>=2.7->matplotlib!=3.6.1,>=3.1->seaborn) (1.16.0)\n"
          ]
        },
        {
          "name": "stderr",
          "output_type": "stream",
          "text": [
            "\n",
            "[notice] A new release of pip available: 22.3.1 -> 24.0\n",
            "[notice] To update, run: python.exe -m pip install --upgrade pip\n"
          ]
        }
      ],
      "source": [
        "pip install seaborn"
      ]
    },
    {
      "cell_type": "code",
      "execution_count": 56,
      "metadata": {
        "colab": {
          "base_uri": "https://localhost:8080/",
          "height": 430
        },
        "id": "wztkMR838QDj",
        "outputId": "a6d71e9c-4153-48b6-a66a-60c6a222e96e"
      },
      "outputs": [
        {
          "data": {
            "image/png": "[encoded data removed]",
            "text/plain": [
              "<Figure size 500x500 with 2 Axes>"
            ]
          },
          "metadata": {},
          "output_type": "display_data"
        }
      ],
      "source": [
        "import seaborn as sns\n",
        "def plot_heatmap(data, title):\n",
        "    plt.figure(figsize=(5, 5))\n",
        "    sns.heatmap(data, annot=True, fmt=\".2f\", cmap=\"coolwarm\", linewidths=0.5, square=True)\n",
        "    plt.title(title)\n",
        "    plt.xlabel(\"Principal Components\")\n",
        "    plt.ylabel(\"Principal Components\")\n",
        "    plt.show()\n",
        "\n",
        "# Plot heatmap dari matriks kovariansi\n",
        "plot_heatmap(covariance_matrix_pca, \"Matriks Kovariance PCA\")\n"
      ]
    },
    {
      "cell_type": "markdown",
      "metadata": {
        "id": "9OEOir_-9wbs"
      },
      "source": [
        "memvisualisasikan hubungan antara komponen utama dan memahami berapa banyak varians yang dijelaskan setiap komponen dalam kumpulan data. dilihat dari hal itu maka pc1 memiliki varians tertinggi, yang berarti menangkap variasi paling banyak dalam kumpulan data asli."
      ]
    },
    {
      "cell_type": "markdown",
      "metadata": {
        "id": "8qR-ADFK2B4v"
      },
      "source": [
        "**PEMODELAN ANN (backpropagation)**"
      ]
    },
    {
      "cell_type": "code",
      "execution_count": 57,
      "metadata": {
        "colab": {
          "base_uri": "https://localhost:8080/",
          "height": 206
        },
        "id": "HMoDcqzQI5Jk",
        "outputId": "07d402de-e37b-43a5-8cab-f3d930bd064f"
      },
      "outputs": [
        {
          "data": {
            "text/html": [
              "<div>\n",
              "<style scoped>\n",
              "    .dataframe tbody tr th:only-of-type {\n",
              "        vertical-align: middle;\n",
              "    }\n",
              "\n",
              "    .dataframe tbody tr th {\n",
              "        vertical-align: top;\n",
              "    }\n",
              "\n",
              "    .dataframe thead th {\n",
              "        text-align: right;\n",
              "    }\n",
              "</style>\n",
              "<table border=\"1\" class=\"dataframe\">\n",
              "  <thead>\n",
              "    <tr style=\"text-align: right;\">\n",
              "      <th></th>\n",
              "      <th>Level</th>\n",
              "    </tr>\n",
              "  </thead>\n",
              "  <tbody>\n",
              "    <tr>\n",
              "      <th>0</th>\n",
              "      <td>1</td>\n",
              "    </tr>\n",
              "    <tr>\n",
              "      <th>1</th>\n",
              "      <td>2</td>\n",
              "    </tr>\n",
              "    <tr>\n",
              "      <th>2</th>\n",
              "      <td>3</td>\n",
              "    </tr>\n",
              "    <tr>\n",
              "      <th>3</th>\n",
              "      <td>3</td>\n",
              "    </tr>\n",
              "    <tr>\n",
              "      <th>4</th>\n",
              "      <td>3</td>\n",
              "    </tr>\n",
              "  </tbody>\n",
              "</table>\n",
              "</div>"
            ],
            "text/plain": [
              "   Level\n",
              "0      1\n",
              "1      2\n",
              "2      3\n",
              "3      3\n",
              "4      3"
            ]
          },
          "execution_count": 57,
          "metadata": {},
          "output_type": "execute_result"
        }
      ],
      "source": [
        "selected_columns = [ 'Level']\n",
        "datalabel = databaru[selected_columns]\n",
        "datalabel.head()"
      ]
    },
    {
      "cell_type": "code",
      "execution_count": 58,
      "metadata": {
        "colab": {
          "base_uri": "https://localhost:8080/"
        },
        "id": "5pvju0_WLPAQ",
        "outputId": "e66de7fe-8327-456f-e94d-fa58541601f9"
      },
      "outputs": [
        {
          "data": {
            "text/plain": [
              "(1000, 1)"
            ]
          },
          "execution_count": 58,
          "metadata": {},
          "output_type": "execute_result"
        }
      ],
      "source": [
        "datalabel.shape"
      ]
    },
    {
      "cell_type": "code",
      "execution_count": 59,
      "metadata": {
        "id": "yFZJK_205_aM"
      },
      "outputs": [],
      "source": [
        "X= 'PCA_ds'\n",
        "Y= 'datalabel'"
      ]
    },
    {
      "cell_type": "code",
      "execution_count": 60,
      "metadata": {
        "colab": {
          "base_uri": "https://localhost:8080/",
          "height": 356
        },
        "id": "_oc3W7Oa2K6h",
        "outputId": "45005685-fb40-4c4a-9492-6d5546ef15ef"
      },
      "outputs": [
        {
          "ename": "NameError",
          "evalue": "name 'y' is not defined",
          "output_type": "error",
          "traceback": [
            "\u001b[1;31m---------------------------------------------------------------------------\u001b[0m",
            "\u001b[1;31mNameError\u001b[0m                                 Traceback (most recent call last)",
            "Cell \u001b[1;32mIn[60], line 4\u001b[0m\n\u001b[0;32m      1\u001b[0m \u001b[38;5;28;01mfrom\u001b[39;00m \u001b[38;5;21;01msklearn\u001b[39;00m\u001b[38;5;21;01m.\u001b[39;00m\u001b[38;5;21;01mmodel_selection\u001b[39;00m \u001b[38;5;28;01mimport\u001b[39;00m train_test_split\n\u001b[0;32m      3\u001b[0m \u001b[38;5;66;03m# Split data into training and testing sets\u001b[39;00m\n\u001b[1;32m----> 4\u001b[0m X_train, X_test, y_train, y_test \u001b[38;5;241m=\u001b[39m train_test_split(X, \u001b[43my\u001b[49m, test_size\u001b[38;5;241m=\u001b[39m\u001b[38;5;241m0.2\u001b[39m, random_state\u001b[38;5;241m=\u001b[39m\u001b[38;5;241m1\u001b[39m)\n\u001b[0;32m      6\u001b[0m \u001b[38;5;28mprint\u001b[39m(\u001b[38;5;124m\"\u001b[39m\u001b[38;5;124mTraining Set:\u001b[39m\u001b[38;5;124m\"\u001b[39m)\n\u001b[0;32m      7\u001b[0m \u001b[38;5;28mprint\u001b[39m(X_train)\n",
            "\u001b[1;31mNameError\u001b[0m: name 'y' is not defined"
          ]
        }
      ],
      "source": [
        "from sklearn.model_selection import train_test_split\n",
        "\n",
        "# Split data into training and testing sets\n",
        "X_train, X_test, y_train, y_test = train_test_split(X, y, test_size=0.2, random_state=1)\n",
        "\n",
        "print(\"Training Set:\")\n",
        "print(X_train)\n",
        "print(y_train)\n",
        "\n",
        "print(\"\\nTesting Set:\")\n",
        "print(X_test)\n",
        "print(y_test)"
      ]
    },
    {
      "cell_type": "markdown",
      "metadata": {
        "id": "m3iZ-UxnEaol"
      },
      "source": [
        "**pemodelan KNN**"
      ]
    },
    {
      "cell_type": "code",
      "execution_count": null,
      "metadata": {
        "id": "qDNX-HddcgY1"
      },
      "outputs": [],
      "source": [
        "from sklearn.model_selection import train_test_split"
      ]
    },
    {
      "cell_type": "code",
      "execution_count": null,
      "metadata": {
        "id": "Snuvo2d5d1_S"
      },
      "outputs": [],
      "source": [
        "# # Defining X(features) and y(response)\n",
        "# X = databaru[['Chest Pain', 'Coughing of Blood', 'Fatigue', 'Weight Loss', 'Shortness of Breath',\n",
        "#               'Wheezing', 'Swallowing Difficulty', 'Clubbing of Finger Nails',\n",
        "#               'Frequent Cold', 'Dry Cough', 'Snoring']]\n",
        "# y = databaru['Level']"
      ]
    },
    {
      "cell_type": "code",
      "execution_count": null,
      "metadata": {
        "id": "MVtS4Wb7LzUg"
      },
      "outputs": [],
      "source": [
        "y = databaru['Level']\n",
        "# Splitting PCA transformed data into train and test\n",
        "X_pca_train, X_pca_test, y_pca_train, y_pca_test = train_test_split(PCA_ds, y, test_size=0.30, random_state=16)"
      ]
    },
    {
      "cell_type": "code",
      "execution_count": null,
      "metadata": {
        "id": "a_npPLKzLzRB"
      },
      "outputs": [],
      "source": [
        "from sklearn.neighbors import KNeighborsClassifier\n",
        "import numpy as np\n",
        "import matplotlib.pyplot as plt\n",
        "\n",
        "# Model fitting and evaluation using PCA transformed data\n",
        "error_pca = []\n",
        "\n",
        "# Calculating error for K values between 1 and 40\n",
        "for i in range(1, 40):\n",
        "    knn_pca = KNeighborsClassifier(n_neighbors=i)\n",
        "    knn_pca.fit(X_pca_train, y_pca_train)\n",
        "    pred_i_pca = knn_pca.predict(X_pca_test)\n",
        "    error_pca.append(np.mean(pred_i_pca != y_pca_test))\n",
        "\n",
        "plt.figure(figsize=(12, 6))\n",
        "plt.plot(range(1, 40), error_pca, color='red', linestyle='dashed', marker='o',\n",
        "         markerfacecolor='blue', markersize=10)\n",
        "plt.title('Error Rate Nilai K (PCA Transformed Data)')\n",
        "plt.xlabel('Nilai K')\n",
        "plt.ylabel('Error rata-rata')"
      ]
    },
    {
      "cell_type": "code",
      "execution_count": null,
      "metadata": {
        "id": "cEfJUa21LzOh"
      },
      "outputs": [],
      "source": [
        "from sklearn.metrics import accuracy_score\n",
        "\n",
        "# Model evaluation and prediction using PCA transformed data\n",
        "knn_pca = KNeighborsClassifier(n_neighbors=3)\n",
        "knn_pca.fit(X_pca_train, y_pca_train)\n",
        "y_pred_knn_pca = knn_pca.predict(X_pca_test)\n",
        "acc_knn_pca = accuracy_score(y_pca_test, y_pred_knn_pca)\n",
        "\n",
        "print(\"Metode K-Nearest Neighbors (PCA Transformed Data)\")\n",
        "print(f\"Test set accuracy: {acc_knn_pca}\")"
      ]
    },
    {
      "cell_type": "code",
      "execution_count": null,
      "metadata": {
        "id": "YOGqtLtaS1qm"
      },
      "outputs": [],
      "source": [
        "from sklearn.metrics import accuracy_score\n",
        "\n",
        "# Model evaluation and prediction using PCA transformed data\n",
        "knn_pca = KNeighborsClassifier(n_neighbors=8)\n",
        "knn_pca.fit(X_pca_train, y_pca_train)\n",
        "y_pred_knn_pca = knn_pca.predict(X_pca_test)\n",
        "acc_knn_pca = accuracy_score(y_pca_test, y_pred_knn_pca)\n",
        "\n",
        "print(\"Metode K-Nearest Neighbors (PCA Transformed Data)\")\n",
        "print(f\"Test set accuracy: {acc_knn_pca}\")"
      ]
    },
    {
      "cell_type": "code",
      "execution_count": null,
      "metadata": {
        "id": "3m0oQuSyS4qe"
      },
      "outputs": [],
      "source": [
        "from sklearn.metrics import accuracy_score\n",
        "\n",
        "# Model evaluation and prediction using PCA transformed data\n",
        "knn_pca = KNeighborsClassifier(n_neighbors=2)\n",
        "knn_pca.fit(X_pca_train, y_pca_train)\n",
        "y_pred_knn_pca = knn_pca.predict(X_pca_test)\n",
        "acc_knn_pca = accuracy_score(y_pca_test, y_pred_knn_pca)\n",
        "\n",
        "print(\"Metode K-Nearest Neighbors (PCA Transformed Data)\")\n",
        "print(f\"Test set accuracy: {acc_knn_pca}\")"
      ]
    },
    {
      "cell_type": "code",
      "execution_count": null,
      "metadata": {
        "id": "gB1eAPaSLzL-"
      },
      "outputs": [],
      "source": [
        "from sklearn.metrics import confusion_matrix\n",
        "from sklearn.metrics import classification_report\n",
        "import seaborn as sns\n",
        "\n",
        "matrix_pca = confusion_matrix(y_pca_test, y_pred_knn_pca)\n",
        "sns.heatmap(matrix_pca, annot=True, fmt=\"d\")\n",
        "plt.title('Confusion Matrix (PCA Transformed Data)')\n",
        "plt.xlabel('Predicted')\n",
        "plt.ylabel('True')\n",
        "\n",
        "print(classification_report(y_pca_test, y_pred_knn_pca))"
      ]
    },
    {
      "cell_type": "code",
      "execution_count": null,
      "metadata": {
        "id": "83QBQbsKLzI8"
      },
      "outputs": [],
      "source": []
    },
    {
      "cell_type": "code",
      "execution_count": null,
      "metadata": {
        "id": "Vb8_0uHHLzGN"
      },
      "outputs": [],
      "source": []
    },
    {
      "cell_type": "code",
      "execution_count": null,
      "metadata": {
        "id": "wm4SIv4BLzAv"
      },
      "outputs": [],
      "source": []
    },
    {
      "cell_type": "code",
      "execution_count": null,
      "metadata": {
        "id": "mu04r1kNLy2i"
      },
      "outputs": [],
      "source": []
    },
    {
      "cell_type": "code",
      "execution_count": null,
      "metadata": {
        "id": "zM1uRyDlLypY"
      },
      "outputs": [],
      "source": []
    },
    {
      "cell_type": "code",
      "execution_count": null,
      "metadata": {
        "id": "5B-iT1qVKRye"
      },
      "outputs": [],
      "source": [
        "#Defining X(features) and y(response)\n",
        "X=databaru[['Chest Pain','Coughing of Blood', 'Fatigue', 'Weight Loss', 'Shortness of Breath',\n",
        "      'Wheezing', 'Swallowing Difficulty', 'Clubbing of Finger Nails',\n",
        "      'Frequent Cold', 'Dry Cough', 'Snoring']]\n",
        "y=databaru['Level']\n",
        "\n",
        "#scaling features with StandardScaler\n",
        "from sklearn.preprocessing import StandardScaler\n",
        "scaler=StandardScaler()\n",
        "scaler.fit(X)\n",
        "scaled_X = scaler.transform(X)\n",
        "scaled_X"
      ]
    },
    {
      "cell_type": "code",
      "execution_count": null,
      "metadata": {
        "id": "y4h8SPJvOCEm"
      },
      "outputs": [],
      "source": [
        "#splitting data into train and test\n",
        "\n",
        "from sklearn.model_selection import train_test_split\n",
        "\n",
        "X_train, X_test, y_train, y_test = train_test_split(scaled_X, y, test_size=0.30, random_state=16)"
      ]
    },
    {
      "cell_type": "code",
      "execution_count": null,
      "metadata": {
        "id": "cQdCcEKETZe4"
      },
      "outputs": [],
      "source": [
        "from sklearn.neighbors import KNeighborsClassifier\n",
        "import numpy as np\n",
        "import matplotlib.pyplot as plt\n",
        "\n",
        "error = []\n",
        "\n",
        "# Calculating error for K values between 1 and 40\n",
        "for i in range(1, 40):\n",
        "    knn = KNeighborsClassifier(n_neighbors=i)\n",
        "    knn.fit(X_train, y_train)\n",
        "    pred_i = knn.predict(X_test)\n",
        "    error.append(np.mean(pred_i != y_test))\n",
        "plt.figure(figsize=(12, 6))\n",
        "plt.plot(range(1, 40), error, color='red', linestyle='dashed', marker='o',\n",
        "         markerfacecolor='blue', markersize=10)\n",
        "plt.title('Error Rate Nilai K')\n",
        "plt.xlabel('Nilai K')\n",
        "plt.ylabel('Error rata-rata')"
      ]
    },
    {
      "cell_type": "code",
      "execution_count": null,
      "metadata": {
        "id": "XnX1MLpmTs6X"
      },
      "outputs": [],
      "source": [
        "from sklearn.metrics import accuracy_score\n",
        "\n",
        "knn = KNeighborsClassifier(n_neighbors=3)\n",
        "\n",
        "knn.fit(X_train, y_train)\n",
        "\n",
        "# Memprediksi label set test\n",
        "y_pred_knn = knn.predict(X_test)\n",
        "\n",
        "#  menghitung set accuracy\n",
        "acc_knn = accuracy_score(y_test, y_pred_knn)\n",
        "print(\"Metode K-Nearst Neighboard\")\n",
        "print(\"Test set accuracy: {:.2f}\".format(acc_knn))\n",
        "print(f\"Test set accuracy: {acc_knn}\")"
      ]
    },
    {
      "cell_type": "code",
      "execution_count": null,
      "metadata": {
        "id": "x_bU6BfM-K3V"
      },
      "outputs": [],
      "source": [
        "from sklearn.metrics import accuracy_score\n",
        "\n",
        "knn = KNeighborsClassifier(n_neighbors=5)\n",
        "\n",
        "knn.fit(X_train, y_train)\n",
        "\n",
        "# Memprediksi label set test\n",
        "y_pred_knn = knn.predict(X_test)\n",
        "\n",
        "#  menghitung set accuracy\n",
        "acc_knn = accuracy_score(y_test, y_pred_knn)\n",
        "print(\"Metode K-Nearst Neighboard\")\n",
        "print(\"Test set accuracy: {:.2f}\".format(acc_knn))\n",
        "print(f\"Test set accuracy: {acc_knn}\")"
      ]
    },
    {
      "cell_type": "code",
      "execution_count": null,
      "metadata": {
        "id": "XjHjwiE1T21t"
      },
      "outputs": [],
      "source": [
        "from sklearn.metrics import confusion_matrix\n",
        "from sklearn.metrics import classification_report\n",
        "import seaborn as sns\n",
        "\n",
        "matrix = confusion_matrix(y_test, y_pred_knn)\n",
        "sns.heatmap(matrix, annot=True, fmt=\"d\")\n",
        "plt.title('Confusion Matrix')\n",
        "plt.xlabel('Predicted')\n",
        "plt.ylabel('True')\n",
        "print(classification_report(y_test, y_pred_knn))"
      ]
    }
  ],
  "metadata": {
    "colab": {
      "provenance": []
    },
    "kernelspec": {
      "display_name": "Python 3",
      "name": "python3"
    },
    "language_info": {
      "codemirror_mode": {
        "name": "ipython",
        "version": 3
      },
      "file_extension": ".py",
      "mimetype": "text/x-python",
      "name": "python",
      "nbconvert_exporter": "python",
      "pygments_lexer": "ipython3",
      "version": "3.11.2"
    }
  },
  "nbformat": 4,
  "nbformat_minor": 0
}
